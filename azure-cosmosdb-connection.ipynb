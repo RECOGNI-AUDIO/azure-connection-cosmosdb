{
 "cells": [
  {
   "cell_type": "code",
   "execution_count": 28,
   "metadata": {},
   "outputs": [],
   "source": [
    "import json\n",
    "import os\n",
    "import sys\n",
    "import uuid\n",
    "from dotenv import load_dotenv\n",
    "from azure.core.exceptions import AzureError\n",
    "from azure.cosmos import CosmosClient, PartitionKey, exceptions"
   ]
  },
  {
   "cell_type": "code",
   "execution_count": 29,
   "metadata": {},
   "outputs": [
    {
     "data": {
      "text/plain": [
       "True"
      ]
     },
     "execution_count": 29,
     "metadata": {},
     "output_type": "execute_result"
    }
   ],
   "source": [
    "env_path = \".env\"\n",
    "load_dotenv(env_path)"
   ]
  },
  {
   "cell_type": "code",
   "execution_count": 30,
   "metadata": {},
   "outputs": [],
   "source": [
    "ENDPOINT = os.environ[\"COSMOS_ENDPOINT\"]\n",
    "KEY = os.environ[\"COSMOS_KEY\"]\n",
    "\n",
    "client = CosmosClient(url=ENDPOINT, credential=KEY)"
   ]
  },
  {
   "cell_type": "code",
   "execution_count": 31,
   "metadata": {},
   "outputs": [],
   "source": [
    "DATABASE = \"transcriptions-db\"\n",
    "CONTAINER_TRANSCRIPTION = 'transcriptions-container'\n",
    "CONTAINER_METADADOS = 'metadata-container'\n",
    "CONTAINER_LOGS = 'logs-container'"
   ]
  },
  {
   "cell_type": "code",
   "execution_count": 32,
   "metadata": {},
   "outputs": [],
   "source": [
    "database = client.get_database_client(DATABASE)\n",
    "container_transcription = database.get_container_client(CONTAINER_TRANSCRIPTION)"
   ]
  },
  {
   "cell_type": "code",
   "execution_count": 33,
   "metadata": {},
   "outputs": [],
   "source": [
    "# Função para carregar dados de um arquivo JSON\n",
    "def carregar_dados_json(caminho_arquivo):\n",
    "    try:\n",
    "        with open(caminho_arquivo, 'r', encoding='utf-8') as file:\n",
    "            return json.load(file)\n",
    "    except FileNotFoundError:\n",
    "        print(f\"Arquivo {caminho_arquivo} não encontrado.\")\n",
    "    except json.JSONDecodeError as e:\n",
    "        print(f\"Erro ao decodificar o JSON: {e}\")\n",
    "    return None"
   ]
  },
  {
   "cell_type": "code",
   "execution_count": 34,
   "metadata": {},
   "outputs": [],
   "source": [
    "# Função para inserir transcrições no contêiner\n",
    "def inserir_transcricoes(container, data):\n",
    "    try:\n",
    "        for item in data['transcription']:\n",
    "            transcricao_item = {\n",
    "                'audio_path': data['audio_path'],  # chave de partição\n",
    "                'order': item['order'],\n",
    "                'start': item['start'],\n",
    "                'end': item['end'],\n",
    "                'transcription': item['transcription']\n",
    "            }\n",
    "            container.create_item(body=transcricao_item)\n",
    "        print(\"Transcrições inseridas com sucesso!\")\n",
    "    except exceptions.CosmosHttpResponseError as e:\n",
    "        print(f\"Erro ao inserir transcrições: {e}\")\n",
    "\n",
    "# Função para inserir métricas no contêiner\n",
    "def inserir_metricas(container, data):\n",
    "    try:\n",
    "        metrics_item = {\n",
    "            'audio_path': data['audio_path'],  # chave de partição\n",
    "            'total_words': data['metrics']['total_words'],\n",
    "            'words_per_minute': data['metrics']['words_per_minute'],\n",
    "            'top_10_words': data['metrics']['top_10_words'],\n",
    "            'magic_word_percentages': data['metrics']['magic_word_percentages']\n",
    "        }\n",
    "        container.create_item(body=metrics_item)\n",
    "        print(\"Métricas inseridas com sucesso!\")\n",
    "    except exceptions.CosmosHttpResponseError as e:\n",
    "        print(f\"Erro ao inserir métricas: {e}\")"
   ]
  },
  {
   "cell_type": "code",
   "execution_count": 35,
   "metadata": {},
   "outputs": [],
   "source": [
    "# Criar os contêineres se não existirem\n",
    "transcriptions_container = database.create_container_if_not_exists(\n",
    "    id=\"TranscriptionsContainer\",\n",
    "    partition_key=PartitionKey(path=r\"C:\\Users\\sasde\\azure-connection-cosmosdb\\json_files 1\"),\n",
    "    offer_throughput=400\n",
    ")\n",
    "\n",
    "metrics_container = database.create_container_if_not_exists(\n",
    "    id=\"MetricsContainer\",\n",
    "    partition_key=PartitionKey(path=r\"C:\\Users\\sasde\\azure-connection-cosmosdb\\json_files 1\"),\n",
    "    offer_throughput=400\n",
    ")"
   ]
  },
  {
   "cell_type": "code",
   "execution_count": 36,
   "metadata": {},
   "outputs": [
    {
     "ename": "PermissionError",
     "evalue": "[Errno 13] Permission denied: 'C:\\\\\\\\Users\\\\\\\\sasde\\\\\\\\azure-connection-cosmosdb\\\\\\\\json_files 1'",
     "output_type": "error",
     "traceback": [
      "\u001b[1;31m---------------------------------------------------------------------------\u001b[0m",
      "\u001b[1;31mPermissionError\u001b[0m                           Traceback (most recent call last)",
      "Cell \u001b[1;32mIn[36], line 3\u001b[0m\n\u001b[0;32m      1\u001b[0m \u001b[38;5;66;03m# Carregar dados do arquivo JSON\u001b[39;00m\n\u001b[0;32m      2\u001b[0m caminho_arquivo_json \u001b[38;5;241m=\u001b[39m \u001b[38;5;124mr\u001b[39m\u001b[38;5;124m\"\u001b[39m\u001b[38;5;124mC:\u001b[39m\u001b[38;5;130;01m\\\\\u001b[39;00m\u001b[38;5;124mUsers\u001b[39m\u001b[38;5;130;01m\\\\\u001b[39;00m\u001b[38;5;124msasde\u001b[39m\u001b[38;5;130;01m\\\\\u001b[39;00m\u001b[38;5;124mazure-connection-cosmosdb\u001b[39m\u001b[38;5;130;01m\\\\\u001b[39;00m\u001b[38;5;124mjson_files 1\u001b[39m\u001b[38;5;124m\"\u001b[39m \n\u001b[1;32m----> 3\u001b[0m data \u001b[38;5;241m=\u001b[39m \u001b[43mcarregar_dados_json\u001b[49m\u001b[43m(\u001b[49m\u001b[43mcaminho_arquivo_json\u001b[49m\u001b[43m)\u001b[49m\n\u001b[0;32m      5\u001b[0m \u001b[38;5;28;01mif\u001b[39;00m data:\n\u001b[0;32m      6\u001b[0m     \u001b[38;5;66;03m# Inserir dados nos contêineres\u001b[39;00m\n\u001b[0;32m      7\u001b[0m     inserir_transcricoes(transcriptions_container, data)\n",
      "Cell \u001b[1;32mIn[33], line 4\u001b[0m, in \u001b[0;36mcarregar_dados_json\u001b[1;34m(caminho_arquivo)\u001b[0m\n\u001b[0;32m      2\u001b[0m \u001b[38;5;28;01mdef\u001b[39;00m \u001b[38;5;21mcarregar_dados_json\u001b[39m(caminho_arquivo):\n\u001b[0;32m      3\u001b[0m     \u001b[38;5;28;01mtry\u001b[39;00m:\n\u001b[1;32m----> 4\u001b[0m         \u001b[38;5;28;01mwith\u001b[39;00m \u001b[38;5;28;43mopen\u001b[39;49m\u001b[43m(\u001b[49m\u001b[43mcaminho_arquivo\u001b[49m\u001b[43m,\u001b[49m\u001b[43m \u001b[49m\u001b[38;5;124;43m'\u001b[39;49m\u001b[38;5;124;43mr\u001b[39;49m\u001b[38;5;124;43m'\u001b[39;49m\u001b[43m,\u001b[49m\u001b[43m \u001b[49m\u001b[43mencoding\u001b[49m\u001b[38;5;241;43m=\u001b[39;49m\u001b[38;5;124;43m'\u001b[39;49m\u001b[38;5;124;43mutf-8\u001b[39;49m\u001b[38;5;124;43m'\u001b[39;49m\u001b[43m)\u001b[49m \u001b[38;5;28;01mas\u001b[39;00m file:\n\u001b[0;32m      5\u001b[0m             \u001b[38;5;28;01mreturn\u001b[39;00m json\u001b[38;5;241m.\u001b[39mload(file)\n\u001b[0;32m      6\u001b[0m     \u001b[38;5;28;01mexcept\u001b[39;00m \u001b[38;5;167;01mFileNotFoundError\u001b[39;00m:\n",
      "File \u001b[1;32m~\\AppData\\Local\\Packages\\PythonSoftwareFoundation.Python.3.10_qbz5n2kfra8p0\\LocalCache\\local-packages\\Python310\\site-packages\\IPython\\core\\interactiveshell.py:282\u001b[0m, in \u001b[0;36m_modified_open\u001b[1;34m(file, *args, **kwargs)\u001b[0m\n\u001b[0;32m    275\u001b[0m \u001b[38;5;28;01mif\u001b[39;00m file \u001b[38;5;129;01min\u001b[39;00m {\u001b[38;5;241m0\u001b[39m, \u001b[38;5;241m1\u001b[39m, \u001b[38;5;241m2\u001b[39m}:\n\u001b[0;32m    276\u001b[0m     \u001b[38;5;28;01mraise\u001b[39;00m \u001b[38;5;167;01mValueError\u001b[39;00m(\n\u001b[0;32m    277\u001b[0m         \u001b[38;5;124mf\u001b[39m\u001b[38;5;124m\"\u001b[39m\u001b[38;5;124mIPython won\u001b[39m\u001b[38;5;124m'\u001b[39m\u001b[38;5;124mt let you open fd=\u001b[39m\u001b[38;5;132;01m{\u001b[39;00mfile\u001b[38;5;132;01m}\u001b[39;00m\u001b[38;5;124m by default \u001b[39m\u001b[38;5;124m\"\u001b[39m\n\u001b[0;32m    278\u001b[0m         \u001b[38;5;124m\"\u001b[39m\u001b[38;5;124mas it is likely to crash IPython. If you know what you are doing, \u001b[39m\u001b[38;5;124m\"\u001b[39m\n\u001b[0;32m    279\u001b[0m         \u001b[38;5;124m\"\u001b[39m\u001b[38;5;124myou can use builtins\u001b[39m\u001b[38;5;124m'\u001b[39m\u001b[38;5;124m open.\u001b[39m\u001b[38;5;124m\"\u001b[39m\n\u001b[0;32m    280\u001b[0m     )\n\u001b[1;32m--> 282\u001b[0m \u001b[38;5;28;01mreturn\u001b[39;00m io_open(file, \u001b[38;5;241m*\u001b[39margs, \u001b[38;5;241m*\u001b[39m\u001b[38;5;241m*\u001b[39mkwargs)\n",
      "\u001b[1;31mPermissionError\u001b[0m: [Errno 13] Permission denied: 'C:\\\\\\\\Users\\\\\\\\sasde\\\\\\\\azure-connection-cosmosdb\\\\\\\\json_files 1'"
     ]
    }
   ],
   "source": [
    "# Carregar dados do arquivo JSON\n",
    "caminho_arquivo_json = r\"C:\\\\Users\\\\sasde\\\\azure-connection-cosmosdb\\\\json_files\" \n",
    "data = carregar_dados_json(caminho_arquivo_json)\n",
    "\n",
    "if data:\n",
    "    # Inserir dados nos contêineres\n",
    "    inserir_transcricoes(transcriptions_container, data)\n",
    "    inserir_metricas(metrics_container, data)\n",
    "else:\n",
    "    print(\"Não foi possível carregar os dados do arquivo JSON.\")"
   ]
  }
 ],
 "metadata": {
  "kernelspec": {
   "display_name": "Python 3",
   "language": "python",
   "name": "python3"
  },
  "language_info": {
   "codemirror_mode": {
    "name": "ipython",
    "version": 3
   },
   "file_extension": ".py",
   "mimetype": "text/x-python",
   "name": "python",
   "nbconvert_exporter": "python",
   "pygments_lexer": "ipython3",
   "version": "3.10.11"
  }
 },
 "nbformat": 4,
 "nbformat_minor": 2
}
