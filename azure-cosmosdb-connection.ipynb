{
 "cells": [
  {
   "cell_type": "code",
   "execution_count": 26,
   "metadata": {},
   "outputs": [],
   "source": [
    "import json\n",
    "import os\n",
    "import sys\n",
    "import uuid\n",
    "from dotenv import load_dotenv\n",
    "from azure.core.exceptions import AzureError\n",
    "from azure.cosmos import CosmosClient, PartitionKey"
   ]
  },
  {
   "cell_type": "code",
   "execution_count": 27,
   "metadata": {},
   "outputs": [
    {
     "data": {
      "text/plain": [
       "True"
      ]
     },
     "execution_count": 27,
     "metadata": {},
     "output_type": "execute_result"
    }
   ],
   "source": [
    "env_path = \".env\"\n",
    "load_dotenv(env_path)"
   ]
  },
  {
   "cell_type": "code",
   "execution_count": 28,
   "metadata": {},
   "outputs": [],
   "source": [
    "ENDPOINT = os.environ[\"COSMOS_ENDPOINT\"]\n",
    "KEY = os.environ[\"COSMOS_KEY\"]\n",
    "\n",
    "client = CosmosClient(url=ENDPOINT, credential=KEY)"
   ]
  },
  {
   "cell_type": "code",
   "execution_count": 29,
   "metadata": {},
   "outputs": [],
   "source": [
    "DATABASE = \"transcriptions-db\"\n",
    "CONTAINER_TRANSCRIPTION = 'transcriptions-container'\n",
    "CONTAINER_METADADOS = 'metadata-container'\n",
    "CONTAINER_LOGS = 'logs-container'"
   ]
  },
  {
   "cell_type": "code",
   "execution_count": 30,
   "metadata": {},
   "outputs": [],
   "source": [
    "database = client.get_database_client(DATABASE)\n",
    "container_transcription = database.get_container_client(CONTAINER_TRANSCRIPTION)"
   ]
  }
 ],
 "metadata": {
  "kernelspec": {
   "display_name": "Python 3",
   "language": "python",
   "name": "python3"
  },
  "language_info": {
   "codemirror_mode": {
    "name": "ipython",
    "version": 3
   },
   "file_extension": ".py",
   "mimetype": "text/x-python",
   "name": "python",
   "nbconvert_exporter": "python",
   "pygments_lexer": "ipython3",
   "version": "3.12.0"
  }
 },
 "nbformat": 4,
 "nbformat_minor": 2
}
